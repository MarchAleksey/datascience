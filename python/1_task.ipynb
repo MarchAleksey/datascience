{
 "cells": [
  {
   "cell_type": "markdown",
   "id": "caec52ff",
   "metadata": {},
   "source": [
    "# Самостоятельное задание\n",
    "\n",
    "Мы предлагаем вам потренироваться c логическими и побитовыми операторами."
   ]
  },
  {
   "cell_type": "code",
   "execution_count": 5,
   "id": "7fe7e97e",
   "metadata": {},
   "outputs": [],
   "source": [
    "a = True\n",
    "\n",
    "b = False"
   ]
  },
  {
   "cell_type": "markdown",
   "id": "06c53579",
   "metadata": {},
   "source": [
    "**Решите:**\n",
    "\n",
    "1. a and b\n",
    "\n",
    "2. (a and b) or b\n",
    "\n",
    "3. (a and b) or not (a and b)\n",
    "\n",
    "4. a and b or not (a or b) or b\n",
    "\n",
    "5. b and b or not a and (a or b or a) or not (a or b)\n",
    "\n",
    "6. 1 << 2\n",
    "\n",
    "7. 1 & 0 | 1 >> 1\n",
    "\n",
    "8. 1 & 0 | 1 >> 0\n",
    "\n",
    "9. 0b101 & 0b111 ^ 0b111 | 0b010  Комментарий: \"0b101\" - запись числа \"5\" на языке Python в двоичном виде "
   ]
  },
  {
   "cell_type": "code",
   "execution_count": 9,
   "id": "f7469bf1",
   "metadata": {},
   "outputs": [
    {
     "name": "stdout",
     "output_type": "stream",
     "text": [
      "Ответ 1: False\n",
      "Ответ 2: False\n",
      "Ответ 3: True\n",
      "Ответ 4: False\n",
      "Ответ 5: False\n",
      "Ответ 6: 4\n",
      "Ответ 7: 0\n",
      "Ответ 8: 1\n",
      "Ответ 9: 2\n"
     ]
    }
   ],
   "source": [
    "print(\"Ответ 1:\", a and b)\n",
    "print(\"Ответ 2:\", (a and b) or b)\n",
    "print(\"Ответ 3:\", (a and b) or not (a and b))\n",
    "print(\"Ответ 4:\", a and b or not (a or b) or b)\n",
    "print(\"Ответ 5:\", b and b or not a and (a or b or a) or not (a or b))\n",
    "print(\"Ответ 6:\", 1 << 2)\n",
    "print(\"Ответ 7:\", 1 & 0 | 1 >> 1)\n",
    "print(\"Ответ 8:\", 1 & 0 | 1 >> 0)\n",
    "print(\"Ответ 9:\", 0b101 & 0b111 ^ 0b111 | 0b010)"
   ]
  }
 ],
 "metadata": {
  "kernelspec": {
   "display_name": "Python 3.9.7 64-bit",
   "language": "python",
   "name": "python3"
  },
  "language_info": {
   "codemirror_mode": {
    "name": "ipython",
    "version": 3
   },
   "file_extension": ".py",
   "mimetype": "text/x-python",
   "name": "python",
   "nbconvert_exporter": "python",
   "pygments_lexer": "ipython3",
   "version": "3.9.7"
  },
  "vscode": {
   "interpreter": {
    "hash": "1ccc8ef859ab60c1cf359dd60bb9e8df10a184990cacaf3d4524f70ac25484c2"
   }
  }
 },
 "nbformat": 4,
 "nbformat_minor": 5
}
